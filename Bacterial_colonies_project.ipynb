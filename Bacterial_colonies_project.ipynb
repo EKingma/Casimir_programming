{
 "cells": [
  {
   "cell_type": "markdown",
   "metadata": {},
   "source": [
    "## Bacterial colonies\n",
    "\n",
    "Implement your own tool for image recognition of bacterial colonies.\n",
    "\n",
    "1. Use the image available in [img/results_L3.jpg](img/results_L3.jpg) or any similar one you can find in google:\n",
    "\n",
    " <img src=\"img/results_L3.jpg\" width=300>  \n",
    "\n",
    "2. Convert the image to grayscale\n",
    "3. Cut out individual petri dishes by adding a mask \n",
    "4. Calculate a color histogram for your masked image\n",
    "4. Calculate area filled with bacteria per petri dish "
   ]
  },
  {
   "cell_type": "code",
   "execution_count": null,
   "metadata": {},
   "outputs": [],
   "source": []
  }
 ],
 "metadata": {
  "kernelspec": {
   "display_name": "Python 3",
   "language": "python",
   "name": "python3"
  },
  "language_info": {
   "codemirror_mode": {
    "name": "ipython",
    "version": 3
   },
   "file_extension": ".py",
   "mimetype": "text/x-python",
   "name": "python",
   "nbconvert_exporter": "python",
   "pygments_lexer": "ipython3",
   "version": "3.6.6"
  }
 },
 "nbformat": 4,
 "nbformat_minor": 2
}
